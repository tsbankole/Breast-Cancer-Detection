{
 "cells": [
  {
   "cell_type": "code",
   "execution_count": 1,
   "id": "united-algorithm",
   "metadata": {},
   "outputs": [],
   "source": [
    "# Import all necessary modules\n",
    "import numpy as np\n",
    "import pandas as pd\n",
    "import os\n",
    "import matplotlib.pyplot as plt\n",
    "import matplotlib\n",
    "import sklearn.model_selection\n",
    "%matplotlib inline \n",
    "# sagemaker libraries\n",
    "import boto3\n",
    "import sagemaker"
   ]
  },
  {
   "cell_type": "code",
   "execution_count": 2,
   "id": "atomic-buffalo",
   "metadata": {},
   "outputs": [],
   "source": [
    "# Load the data and perform exploratory analysis\n",
    "df = pd.read_csv('data.csv', header = 0, index_col = 0)"
   ]
  },
  {
   "cell_type": "code",
   "execution_count": 3,
   "id": "distributed-machine",
   "metadata": {},
   "outputs": [],
   "source": [
    "# Scale the data for normalization\n",
    "from sklearn.preprocessing import MinMaxScaler\n",
    "scaler  = MinMaxScaler()\n",
    "df_scaled = pd.DataFrame(scaler.fit_transform(df.iloc[:,1:]), columns=df.iloc[:,1:].columns)"
   ]
  },
  {
   "cell_type": "code",
   "execution_count": 4,
   "id": "ordered-project",
   "metadata": {},
   "outputs": [],
   "source": [
    "dict_category = {'B':0, 'M':1}\n",
    "target = df.iloc[:,0].apply(lambda x : dict_category[x]) # convert the class into 0-1 Binary and store the target class \n",
    "X_train,X_test,Y_train,Y_test = sklearn.model_selection.train_test_split(df_scaled, target,test_size=0.2)"
   ]
  },
  {
   "cell_type": "code",
   "execution_count": 5,
   "id": "committed-principle",
   "metadata": {},
   "outputs": [],
   "source": [
    "data_dir = '../Capstone Project/data_full/'\n",
    "if not os.path.exists( data_dir ):\n",
    "    os.makedirs(data_dir)"
   ]
  },
  {
   "cell_type": "code",
   "execution_count": 6,
   "id": "roman-metro",
   "metadata": {},
   "outputs": [],
   "source": [
    "# create the training and test data and save locally\n",
    "test = np.hstack([np.reshape(Y_test.values, (Y_test.shape[0], 1)), X_test.values])\n",
    "train = np.hstack([np.reshape(Y_train.values, (Y_train.shape[0], 1)), X_train.values])\n",
    "pd.DataFrame(test).to_csv(os.path.join(data_dir,'test.csv'),header=False,index=False)\n",
    "pd.DataFrame(train).to_csv(os.path.join(data_dir,'train.csv'),header=False,index=False)"
   ]
  },
  {
   "cell_type": "code",
   "execution_count": 8,
   "id": "forbidden-factory",
   "metadata": {},
   "outputs": [
    {
     "name": "stdout",
     "output_type": "stream",
     "text": [
      "We have 114 number of test samples in our dataset\n",
      "We have 455 number of train samples in our dataset\n",
      "We have 30 features\n"
     ]
    }
   ],
   "source": [
    "# How many samples in train test??\n",
    "print(f'We have {X_test.shape[0]} number of test samples in our dataset')\n",
    "print(f'We have {X_train.shape[0]} number of train samples in our dataset')\n",
    "print(f'We have {X_train.shape[1]} features')"
   ]
  },
  {
   "cell_type": "code",
   "execution_count": 9,
   "id": "mediterranean-community",
   "metadata": {},
   "outputs": [
    {
     "name": "stdout",
     "output_type": "stream",
     "text": [
      "arn:aws:iam::172268057478:role/service-role/AmazonSageMaker-ExecutionRole-20210122T150167\n"
     ]
    }
   ],
   "source": [
    "from sagemaker import get_execution_role\n",
    "session =sagemaker.Session()\n",
    "# store the current SageMaker session\n",
    "# get IAM role\n",
    "role=get_execution_role()\n",
    "print(role)\n",
    "\n",
    "bucket_name=session.default_bucket()"
   ]
  },
  {
   "cell_type": "code",
   "execution_count": 10,
   "id": "viral-comment",
   "metadata": {},
   "outputs": [],
   "source": [
    "# set prefix, a descriptive name for a directory for our train test data\n",
    "data_dir = '../Capstone Project/data_full/'\n",
    "prefix = 'cancer-class'\n",
    "# upload all data to S3\n",
    "test_location = session.upload_data(os.path.join(data_dir,'test.csv'),key_prefix=prefix)\n",
    "train_location= session.upload_data(os.path.join(data_dir,'train.csv'),key_prefix=prefix)"
   ]
  },
  {
   "cell_type": "code",
   "execution_count": 11,
   "id": "comic-african",
   "metadata": {},
   "outputs": [
    {
     "name": "stderr",
     "output_type": "stream",
     "text": [
      "train_instance_count has been renamed in sagemaker>=2.\n",
      "See: https://sagemaker.readthedocs.io/en/stable/v2.html for details.\n",
      "train_instance_type has been renamed in sagemaker>=2.\n",
      "See: https://sagemaker.readthedocs.io/en/stable/v2.html for details.\n"
     ]
    }
   ],
   "source": [
    "from sagemaker.pytorch import PyTorch\n",
    "\n",
    "# Create an estimtor\n",
    "# your import and estimator code, here\n",
    "output_path = 's3://{}/{}'.format(bucket_name, prefix)\n",
    "estimator = PyTorch(entry_point=\"train.py\", \n",
    "                    source_dir=\"source_pytorch\", \n",
    "                    role=role,\n",
    "                    framework_version='1.0',\n",
    "                    py_version = 'py3',\n",
    "                    sagemaker_session = session,\n",
    "                    output_path = output_path,\n",
    "                    train_instance_count=1, \n",
    "                    train_instance_type='ml.p2.xlarge',\n",
    "                    hyperparameters= {'input_features':30,\n",
    "                                      'hidden_dim':6, \n",
    "                                      'output_dim':1,\n",
    "                                      'epochs':70\n",
    "                                     }\n",
    "                   )"
   ]
  },
  {
   "cell_type": "code",
   "execution_count": 12,
   "id": "surface-laundry",
   "metadata": {},
   "outputs": [
    {
     "name": "stdout",
     "output_type": "stream",
     "text": [
      "CPU times: user 3 µs, sys: 1e+03 ns, total: 4 µs\n",
      "Wall time: 8.34 µs\n",
      "2021-03-17 21:25:37 Starting - Starting the training job...\n",
      "2021-03-17 21:26:01 Starting - Launching requested ML instancesProfilerReport-1616016337: InProgress\n",
      ".........\n",
      "2021-03-17 21:27:21 Starting - Preparing the instances for training............\n",
      "2021-03-17 21:29:30 Downloading - Downloading input data\n",
      "2021-03-17 21:29:30 Training - Downloading the training image.....\u001b[34mbash: cannot set terminal process group (-1): Inappropriate ioctl for device\u001b[0m\n",
      "\u001b[34mbash: no job control in this shell\u001b[0m\n",
      "\u001b[34m2021-03-17 21:30:20,047 sagemaker-containers INFO     Imported framework sagemaker_pytorch_container.training\u001b[0m\n",
      "\u001b[34m2021-03-17 21:30:20,078 sagemaker_pytorch_container.training INFO     Block until all host DNS lookups succeed.\u001b[0m\n",
      "\u001b[34m2021-03-17 21:30:20,304 sagemaker_pytorch_container.training INFO     Invoking user training script.\u001b[0m\n",
      "\u001b[34m2021-03-17 21:30:20,610 sagemaker-containers INFO     Module train does not provide a setup.py. \u001b[0m\n",
      "\u001b[34mGenerating setup.py\u001b[0m\n",
      "\u001b[34m2021-03-17 21:30:20,610 sagemaker-containers INFO     Generating setup.cfg\u001b[0m\n",
      "\u001b[34m2021-03-17 21:30:20,611 sagemaker-containers INFO     Generating MANIFEST.in\u001b[0m\n",
      "\u001b[34m2021-03-17 21:30:20,611 sagemaker-containers INFO     Installing module with the following command:\u001b[0m\n",
      "\u001b[34m/usr/bin/python -m pip install -U . \u001b[0m\n",
      "\u001b[34mProcessing /opt/ml/code\u001b[0m\n",
      "\u001b[34mBuilding wheels for collected packages: train\n",
      "  Running setup.py bdist_wheel for train: started\u001b[0m\n",
      "\u001b[34m  Running setup.py bdist_wheel for train: finished with status 'done'\n",
      "  Stored in directory: /tmp/pip-ephem-wheel-cache-czwpc3xz/wheels/35/24/16/37574d11bf9bde50616c67372a334f94fa8356bc7164af8ca3\u001b[0m\n",
      "\u001b[34mSuccessfully built train\u001b[0m\n",
      "\u001b[34mInstalling collected packages: train\u001b[0m\n",
      "\u001b[34mSuccessfully installed train-1.0.0\u001b[0m\n",
      "\u001b[34mYou are using pip version 18.1, however version 21.0.1 is available.\u001b[0m\n",
      "\u001b[34mYou should consider upgrading via the 'pip install --upgrade pip' command.\u001b[0m\n",
      "\u001b[34m2021-03-17 21:30:22,968 sagemaker-containers INFO     Invoking user script\n",
      "\u001b[0m\n",
      "\u001b[34mTraining Env:\n",
      "\u001b[0m\n",
      "\u001b[34m{\n",
      "    \"additional_framework_parameters\": {},\n",
      "    \"channel_input_dirs\": {\n",
      "        \"train\": \"/opt/ml/input/data/train\"\n",
      "    },\n",
      "    \"current_host\": \"algo-1\",\n",
      "    \"framework_module\": \"sagemaker_pytorch_container.training:main\",\n",
      "    \"hosts\": [\n",
      "        \"algo-1\"\n",
      "    ],\n",
      "    \"hyperparameters\": {\n",
      "        \"hidden_dim\": 6,\n",
      "        \"input_features\": 30,\n",
      "        \"epochs\": 70,\n",
      "        \"output_dim\": 1\n",
      "    },\n",
      "    \"input_config_dir\": \"/opt/ml/input/config\",\n",
      "    \"input_data_config\": {\n",
      "        \"train\": {\n",
      "            \"ContentType\": \"csv\",\n",
      "            \"TrainingInputMode\": \"File\",\n",
      "            \"S3DistributionType\": \"FullyReplicated\",\n",
      "            \"RecordWrapperType\": \"None\"\n",
      "        }\n",
      "    },\n",
      "    \"input_dir\": \"/opt/ml/input\",\n",
      "    \"is_master\": true,\n",
      "    \"job_name\": \"sagemaker-pytorch-2021-03-17-21-25-37-062\",\n",
      "    \"log_level\": 20,\n",
      "    \"master_hostname\": \"algo-1\",\n",
      "    \"model_dir\": \"/opt/ml/model\",\n",
      "    \"module_dir\": \"s3://sagemaker-us-east-1-172268057478/sagemaker-pytorch-2021-03-17-21-25-37-062/source/sourcedir.tar.gz\",\n",
      "    \"module_name\": \"train\",\n",
      "    \"network_interface_name\": \"eth0\",\n",
      "    \"num_cpus\": 4,\n",
      "    \"num_gpus\": 1,\n",
      "    \"output_data_dir\": \"/opt/ml/output/data\",\n",
      "    \"output_dir\": \"/opt/ml/output\",\n",
      "    \"output_intermediate_dir\": \"/opt/ml/output/intermediate\",\n",
      "    \"resource_config\": {\n",
      "        \"current_host\": \"algo-1\",\n",
      "        \"hosts\": [\n",
      "            \"algo-1\"\n",
      "        ],\n",
      "        \"network_interface_name\": \"eth0\"\n",
      "    },\n",
      "    \"user_entry_point\": \"train.py\"\u001b[0m\n",
      "\u001b[34m}\n",
      "\u001b[0m\n",
      "\u001b[34mEnvironment variables:\n",
      "\u001b[0m\n",
      "\u001b[34mSM_HOSTS=[\"algo-1\"]\u001b[0m\n",
      "\u001b[34mSM_NETWORK_INTERFACE_NAME=eth0\u001b[0m\n",
      "\u001b[34mSM_HPS={\"epochs\":70,\"hidden_dim\":6,\"input_features\":30,\"output_dim\":1}\u001b[0m\n",
      "\u001b[34mSM_USER_ENTRY_POINT=train.py\u001b[0m\n",
      "\u001b[34mSM_FRAMEWORK_PARAMS={}\u001b[0m\n",
      "\u001b[34mSM_RESOURCE_CONFIG={\"current_host\":\"algo-1\",\"hosts\":[\"algo-1\"],\"network_interface_name\":\"eth0\"}\u001b[0m\n",
      "\u001b[34mSM_INPUT_DATA_CONFIG={\"train\":{\"ContentType\":\"csv\",\"RecordWrapperType\":\"None\",\"S3DistributionType\":\"FullyReplicated\",\"TrainingInputMode\":\"File\"}}\u001b[0m\n",
      "\u001b[34mSM_OUTPUT_DATA_DIR=/opt/ml/output/data\u001b[0m\n",
      "\u001b[34mSM_CHANNELS=[\"train\"]\u001b[0m\n",
      "\u001b[34mSM_CURRENT_HOST=algo-1\u001b[0m\n",
      "\u001b[34mSM_MODULE_NAME=train\u001b[0m\n",
      "\u001b[34mSM_LOG_LEVEL=20\u001b[0m\n",
      "\u001b[34mSM_FRAMEWORK_MODULE=sagemaker_pytorch_container.training:main\u001b[0m\n",
      "\u001b[34mSM_INPUT_DIR=/opt/ml/input\u001b[0m\n",
      "\u001b[34mSM_INPUT_CONFIG_DIR=/opt/ml/input/config\u001b[0m\n",
      "\u001b[34mSM_OUTPUT_DIR=/opt/ml/output\u001b[0m\n",
      "\u001b[34mSM_NUM_CPUS=4\u001b[0m\n",
      "\u001b[34mSM_NUM_GPUS=1\u001b[0m\n",
      "\u001b[34mSM_MODEL_DIR=/opt/ml/model\u001b[0m\n",
      "\u001b[34mSM_MODULE_DIR=s3://sagemaker-us-east-1-172268057478/sagemaker-pytorch-2021-03-17-21-25-37-062/source/sourcedir.tar.gz\u001b[0m\n",
      "\u001b[34mSM_TRAINING_ENV={\"additional_framework_parameters\":{},\"channel_input_dirs\":{\"train\":\"/opt/ml/input/data/train\"},\"current_host\":\"algo-1\",\"framework_module\":\"sagemaker_pytorch_container.training:main\",\"hosts\":[\"algo-1\"],\"hyperparameters\":{\"epochs\":70,\"hidden_dim\":6,\"input_features\":30,\"output_dim\":1},\"input_config_dir\":\"/opt/ml/input/config\",\"input_data_config\":{\"train\":{\"ContentType\":\"csv\",\"RecordWrapperType\":\"None\",\"S3DistributionType\":\"FullyReplicated\",\"TrainingInputMode\":\"File\"}},\"input_dir\":\"/opt/ml/input\",\"is_master\":true,\"job_name\":\"sagemaker-pytorch-2021-03-17-21-25-37-062\",\"log_level\":20,\"master_hostname\":\"algo-1\",\"model_dir\":\"/opt/ml/model\",\"module_dir\":\"s3://sagemaker-us-east-1-172268057478/sagemaker-pytorch-2021-03-17-21-25-37-062/source/sourcedir.tar.gz\",\"module_name\":\"train\",\"network_interface_name\":\"eth0\",\"num_cpus\":4,\"num_gpus\":1,\"output_data_dir\":\"/opt/ml/output/data\",\"output_dir\":\"/opt/ml/output\",\"output_intermediate_dir\":\"/opt/ml/output/intermediate\",\"resource_config\":{\"current_host\":\"algo-1\",\"hosts\":[\"algo-1\"],\"network_interface_name\":\"eth0\"},\"user_entry_point\":\"train.py\"}\u001b[0m\n",
      "\u001b[34mSM_USER_ARGS=[\"--epochs\",\"70\",\"--hidden_dim\",\"6\",\"--input_features\",\"30\",\"--output_dim\",\"1\"]\u001b[0m\n",
      "\u001b[34mSM_OUTPUT_INTERMEDIATE_DIR=/opt/ml/output/intermediate\u001b[0m\n",
      "\u001b[34mSM_CHANNEL_TRAIN=/opt/ml/input/data/train\u001b[0m\n",
      "\u001b[34mSM_HP_HIDDEN_DIM=6\u001b[0m\n",
      "\u001b[34mSM_HP_INPUT_FEATURES=30\u001b[0m\n",
      "\u001b[34mSM_HP_EPOCHS=70\u001b[0m\n",
      "\u001b[34mSM_HP_OUTPUT_DIM=1\u001b[0m\n",
      "\u001b[34mPYTHONPATH=/usr/local/bin:/usr/lib/python36.zip:/usr/lib/python3.6:/usr/lib/python3.6/lib-dynload:/usr/local/lib/python3.6/dist-packages:/usr/lib/python3/dist-packages\n",
      "\u001b[0m\n",
      "\u001b[34mInvoking script with the following command:\n",
      "\u001b[0m\n",
      "\u001b[34m/usr/bin/python -m train --epochs 70 --hidden_dim 6 --input_features 30 --output_dim 1\n",
      "\n",
      "\u001b[0m\n",
      "\u001b[34mUsing device cuda.\u001b[0m\n",
      "\u001b[34mGet train data loader.\u001b[0m\n",
      "\n",
      "2021-03-17 21:30:38 Uploading - Uploading generated training model\u001b[34mEpoch: 1, Loss: 0.587756317594777\u001b[0m\n",
      "\u001b[34mEpoch: 2, Loss: 0.2899604067206383\u001b[0m\n",
      "\u001b[34mEpoch: 3, Loss: 0.15904661895626265\u001b[0m\n",
      "\u001b[34mEpoch: 4, Loss: 0.13384426279884318\u001b[0m\n",
      "\u001b[34mEpoch: 5, Loss: 0.12015294727018994\u001b[0m\n",
      "\u001b[34mEpoch: 6, Loss: 0.10480490249946066\u001b[0m\n",
      "\u001b[34mEpoch: 7, Loss: 0.09329626022878548\u001b[0m\n",
      "\u001b[34mEpoch: 8, Loss: 0.08592536075688574\u001b[0m\n",
      "\u001b[34mEpoch: 9, Loss: 0.08105596011180592\u001b[0m\n",
      "\u001b[34mEpoch: 10, Loss: 0.07780973190117789\u001b[0m\n",
      "\u001b[34mEpoch: 11, Loss: 0.07549264685898695\u001b[0m\n",
      "\u001b[34mEpoch: 12, Loss: 0.07370754845602356\u001b[0m\n",
      "\u001b[34mEpoch: 13, Loss: 0.07224946690257639\u001b[0m\n",
      "\u001b[34mEpoch: 14, Loss: 0.07100484377967761\u001b[0m\n",
      "\u001b[34mEpoch: 15, Loss: 0.06994116757287765\u001b[0m\n",
      "\u001b[34mEpoch: 16, Loss: 0.06899494991597274\u001b[0m\n",
      "\u001b[34mEpoch: 17, Loss: 0.06814446243072819\u001b[0m\n",
      "\u001b[34mEpoch: 18, Loss: 0.06737407528714318\u001b[0m\n",
      "\u001b[34mEpoch: 19, Loss: 0.06666959552904186\u001b[0m\n",
      "\u001b[34mEpoch: 20, Loss: 0.06601947152723922\u001b[0m\n",
      "\u001b[34mEpoch: 21, Loss: 0.06541728906576401\u001b[0m\n",
      "\u001b[34mEpoch: 22, Loss: 0.0648535487252166\u001b[0m\n",
      "\u001b[34mEpoch: 23, Loss: 0.06432552868500352\u001b[0m\n",
      "\u001b[34mEpoch: 24, Loss: 0.0638301123905441\u001b[0m\n",
      "\u001b[34mEpoch: 25, Loss: 0.06336418713402489\u001b[0m\n",
      "\u001b[34mEpoch: 26, Loss: 0.06292326672954242\u001b[0m\n",
      "\u001b[34mEpoch: 27, Loss: 0.06250922459825549\u001b[0m\n",
      "\u001b[34mEpoch: 28, Loss: 0.0621190032283978\u001b[0m\n",
      "\u001b[34mEpoch: 29, Loss: 0.061750815816871495\u001b[0m\n",
      "\u001b[34mEpoch: 30, Loss: 0.06140351407331131\u001b[0m\n",
      "\u001b[34mEpoch: 31, Loss: 0.061076272304331804\u001b[0m\n",
      "\u001b[34mEpoch: 32, Loss: 0.06076471590558472\u001b[0m\n",
      "\u001b[34mEpoch: 33, Loss: 0.06046861530099388\u001b[0m\n",
      "\u001b[34mEpoch: 34, Loss: 0.0601650090665435\u001b[0m\n",
      "\u001b[34mEpoch: 35, Loss: 0.05990169172519413\u001b[0m\n",
      "\u001b[34mEpoch: 36, Loss: 0.05965080116774239\u001b[0m\n",
      "\u001b[34mEpoch: 37, Loss: 0.05941227730869761\u001b[0m\n",
      "\u001b[34mEpoch: 38, Loss: 0.05918077094753718\u001b[0m\n",
      "\u001b[34mEpoch: 39, Loss: 0.05896086298921348\u001b[0m\n",
      "\u001b[34mEpoch: 40, Loss: 0.05873960530405621\u001b[0m\n",
      "\u001b[34mEpoch: 41, Loss: 0.058530334271895496\u001b[0m\n",
      "\u001b[34mEpoch: 42, Loss: 0.058320877144781305\u001b[0m\n",
      "\u001b[34mEpoch: 43, Loss: 0.05812847951133533\u001b[0m\n",
      "\u001b[34mEpoch: 44, Loss: 0.05792808673931691\u001b[0m\n",
      "\u001b[34mEpoch: 45, Loss: 0.057731155306100845\u001b[0m\n",
      "\u001b[34mEpoch: 46, Loss: 0.05755687313933816\u001b[0m\n",
      "\u001b[34mEpoch: 47, Loss: 0.05729268945287913\u001b[0m\n",
      "\u001b[34mEpoch: 48, Loss: 0.05709122971419002\u001b[0m\n",
      "\u001b[34mEpoch: 49, Loss: 0.05691547229956916\u001b[0m\n",
      "\u001b[34mEpoch: 50, Loss: 0.05673920998157447\u001b[0m\n",
      "\u001b[34mEpoch: 51, Loss: 0.05660296061187577\u001b[0m\n",
      "\u001b[34mEpoch: 52, Loss: 0.05645316853137363\u001b[0m\n",
      "\u001b[34mEpoch: 53, Loss: 0.05627864126227391\u001b[0m\n",
      "\u001b[34mEpoch: 54, Loss: 0.05614194484002402\u001b[0m\n",
      "\u001b[34mEpoch: 55, Loss: 0.05598801289907778\u001b[0m\n",
      "\u001b[34mEpoch: 56, Loss: 0.05584331855441079\u001b[0m\n",
      "\u001b[34mEpoch: 57, Loss: 0.055669507851986134\u001b[0m\n",
      "\u001b[34mEpoch: 58, Loss: 0.055541180360191705\u001b[0m\n",
      "\u001b[34mEpoch: 59, Loss: 0.05543637007434407\u001b[0m\n",
      "\u001b[34mEpoch: 60, Loss: 0.0553432156093945\u001b[0m\n",
      "\u001b[34mEpoch: 61, Loss: 0.05522009437276131\u001b[0m\n",
      "\u001b[34mEpoch: 62, Loss: 0.0550704578256599\u001b[0m\n",
      "\u001b[34mEpoch: 63, Loss: 0.0549166586639805\u001b[0m\n",
      "\u001b[34mEpoch: 64, Loss: 0.054772645009823304\u001b[0m\n",
      "\u001b[34mEpoch: 65, Loss: 0.05463174149221943\u001b[0m\n",
      "\u001b[34mEpoch: 66, Loss: 0.05448487985362906\u001b[0m\n",
      "\u001b[34mEpoch: 67, Loss: 0.05439245556582413\u001b[0m\n",
      "\u001b[34mEpoch: 68, Loss: 0.0542476438542666\u001b[0m\n",
      "\u001b[34mEpoch: 69, Loss: 0.0540956300885781\u001b[0m\n",
      "\u001b[34mEpoch: 70, Loss: 0.0539441496442558\u001b[0m\n",
      "\u001b[34m2021-03-17 21:30:37,213 sagemaker-containers INFO     Reporting training SUCCESS\u001b[0m\n",
      "\n",
      "2021-03-17 21:31:02 Completed - Training job completed\n",
      "Training seconds: 92\n",
      "Billable seconds: 92\n"
     ]
    }
   ],
   "source": [
    "%time\n",
    "\n",
    "# Train your estimator on S3 training data\n",
    "s3_input_train = sagemaker.TrainingInput(s3_data = train_location, content_type='csv')\n",
    "estimator.fit({'train':s3_input_train})"
   ]
  },
  {
   "cell_type": "code",
   "execution_count": 13,
   "id": "brilliant-techno",
   "metadata": {},
   "outputs": [
    {
     "name": "stdout",
     "output_type": "stream",
     "text": [
      "CPU times: user 3 µs, sys: 1 µs, total: 4 µs\n",
      "Wall time: 7.63 µs\n",
      "-----------------!"
     ]
    }
   ],
   "source": [
    "# deploy your model to create a predictor\n",
    "%time\n",
    "predictor = estimator.deploy(initial_instance_count=1,instance_type='ml.m4.xlarge')"
   ]
  },
  {
   "cell_type": "code",
   "execution_count": 14,
   "id": "wicked-helmet",
   "metadata": {},
   "outputs": [],
   "source": [
    "# read in test data, assuming it is stored locally\n",
    "test_data = pd.read_csv(os.path.join(data_dir, \"test.csv\"), header=None, names=None)\n",
    "# labels are in the first column\n",
    "test_y = test_data.iloc[:,0]\n",
    "test_x = test_data.iloc[:,1:]"
   ]
  },
  {
   "cell_type": "code",
   "execution_count": 15,
   "id": "partial-uncle",
   "metadata": {},
   "outputs": [],
   "source": [
    "test_y_preds = predictor.predict(test_x.values.astype(np.float32))\n",
    "test_y_preds = [round(num) for num in test_y_preds.squeeze()]"
   ]
  },
  {
   "cell_type": "code",
   "execution_count": 16,
   "id": "valuable-uncle",
   "metadata": {},
   "outputs": [
    {
     "name": "stdout",
     "output_type": "stream",
     "text": [
      "Training accuracy 98.68 %\n"
     ]
    }
   ],
   "source": [
    "from sklearn.metrics import accuracy_score\n",
    "train_data = pd.read_csv(os.path.join(data_dir, \"train.csv\"), header=None, names=None)\n",
    "train_y = train_data.iloc[:,0]\n",
    "train_x = train_data.iloc[:,1:]\n",
    "train_y_preds = predictor.predict(train_x.values.astype(np.float32))\n",
    "train_y_preds = [round(num) for num in train_y_preds.squeeze()]\n",
    "accuracy = accuracy_score(train_y, train_y_preds)\n",
    "print(\"Training accuracy %4.2f\" % (100*accuracy), \"%\" )"
   ]
  },
  {
   "cell_type": "code",
   "execution_count": 17,
   "id": "devoted-survey",
   "metadata": {},
   "outputs": [
    {
     "name": "stdout",
     "output_type": "stream",
     "text": [
      "Test accuracy 98.25 %\n"
     ]
    }
   ],
   "source": [
    "# Second: calculate the test accuracy\n",
    "accuracy = accuracy_score(test_y, test_y_preds)\n",
    "\n",
    "print(\"Test accuracy %4.2f %%\" % (100*accuracy) )"
   ]
  },
  {
   "cell_type": "code",
   "execution_count": 37,
   "id": "stuck-portland",
   "metadata": {},
   "outputs": [],
   "source": [
    "preds_train = np.reshape([train_y], (train_y.shape[0],1))\n",
    "train       = np.reshape([train_y_preds], (train_y.shape[0],1) )\n",
    "preds_test  = np.reshape([test_y], (test_y.shape[0],1))\n",
    "test        = np.reshape([test_y_preds], (test_y.shape[0],1) )\n",
    "pd.DataFrame(data = np.hstack((train, preds_train)),\n",
    "             columns = ['original', 'model_output']).to_csv('modeloutput_train.csv')\n",
    "pd.DataFrame(data = np.hstack((test, preds_test)),\n",
    "             columns = ['original', 'model_output']).to_csv('modeloutput_test.csv')"
   ]
  },
  {
   "cell_type": "code",
   "execution_count": 48,
   "id": "vocational-religion",
   "metadata": {},
   "outputs": [
    {
     "data": {
      "text/plain": [
       "[<matplotlib.lines.Line2D at 0x7f140d39d710>]"
      ]
     },
     "execution_count": 48,
     "metadata": {},
     "output_type": "execute_result"
    },
    {
     "data": {
      "image/png": "[encoded data removed]",
      "text/plain": [
       "<Figure size 432x288 with 1 Axes>"
      ]
     },
     "metadata": {
      "needs_background": "light"
     },
     "output_type": "display_data"
    }
   ],
   "source": [
    "# Plot roc curve for testing set\n",
    "import sklearn.metrics as metrics\n",
    "fp, tp, threshold = metrics.roc_curve(test_y, test_y_preds)\n",
    "roc = metrics.auc(fp, tp)\n",
    "\n",
    "plt.title('Receiver Operating Characteristic for testing set')\n",
    "plt.xlabel('False Postive Rate')\n",
    "plt.ylabel('True Positive Rate')\n",
    "plt.plot(fp, tp, 'b')\n"
   ]
  },
  {
   "cell_type": "code",
   "execution_count": 49,
   "id": "sunrise-rebecca",
   "metadata": {},
   "outputs": [
    {
     "data": {
      "text/plain": [
       "[<matplotlib.lines.Line2D at 0x7f140d37a2e8>]"
      ]
     },
     "execution_count": 49,
     "metadata": {},
     "output_type": "execute_result"
    },
    {
     "data": {
      "image/png": "[encoded data removed]",
      "text/plain": [
       "<Figure size 432x288 with 1 Axes>"
      ]
     },
     "metadata": {
      "needs_background": "light"
     },
     "output_type": "display_data"
    }
   ],
   "source": [
    "\n",
    "# Plot roc curve for training set\n",
    "fp, tp, threshold = metrics.roc_curve(train_y, train_y_preds)\n",
    "roc = metrics.auc(fp, tp)\n",
    "\n",
    "plt.title('Receiver Operating Characteristic for training set')\n",
    "plt.xlabel('False Postive Rate')\n",
    "plt.ylabel('True Positive Rate')\n",
    "plt.plot(fp, tp, 'r')"
   ]
  },
  {
   "cell_type": "code",
   "execution_count": 45,
   "id": "employed-victory",
   "metadata": {},
   "outputs": [
    {
     "data": {
      "text/plain": [
       "array([[354,   5],\n",
       "       [  3, 207]])"
      ]
     },
     "execution_count": 45,
     "metadata": {},
     "output_type": "execute_result"
    }
   ],
   "source": [
    "from sklearn.metrics import confusion_matrix\n",
    "confusion_matrix(np.vstack([test, train]), np.vstack([preds_test, preds_train]))"
   ]
  },
  {
   "cell_type": "code",
   "execution_count": null,
   "id": "cloudy-surprise",
   "metadata": {},
   "outputs": [],
   "source": []
  }
 ],
 "metadata": {
  "kernelspec": {
   "display_name": "conda_mxnet_p36",
   "language": "python",
   "name": "conda_mxnet_p36"
  },
  "language_info": {
   "codemirror_mode": {
    "name": "ipython",
    "version": 3
   },
   "file_extension": ".py",
   "mimetype": "text/x-python",
   "name": "python",
   "nbconvert_exporter": "python",
   "pygments_lexer": "ipython3",
   "version": "3.6.13"
  }
 },
 "nbformat": 4,
 "nbformat_minor": 5
}
