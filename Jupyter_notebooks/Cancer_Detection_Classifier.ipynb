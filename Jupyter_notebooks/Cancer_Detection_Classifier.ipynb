{
 "cells": [
  {
   "cell_type": "markdown",
   "id": "covered-conducting",
   "metadata": {},
   "source": [
    "# Problem Statement and Domain\n",
    "The problem presented is the is in the domain of health and medical practice where digitized images of a fine needle aspirate of a breast mass are examined for cancer. The diagnosis of the mass is malignant or benign. The diagnosis helps doctors find breast cancer in early stages and can improve the chances of survival of a patient if intervention is made early. This is necessary as it curbs the spread of the cancer cells to other parts of the body. In addition to the benefits of early detection, using machine learning and artificial intelligence for breast cancer detection is racially unbiased compared to traditional models"
   ]
  },
  {
   "cell_type": "code",
   "execution_count": 1,
   "id": "constitutional-castle",
   "metadata": {},
   "outputs": [],
   "source": [
    "# Import all necessary modules\n",
    "import numpy as np\n",
    "import pandas as pd\n",
    "import os\n",
    "import matplotlib.pyplot as plt\n",
    "import matplotlib\n",
    "import sklearn.model_selection\n",
    "%matplotlib inline "
   ]
  },
  {
   "cell_type": "code",
   "execution_count": 2,
   "id": "stretch-recipe",
   "metadata": {},
   "outputs": [],
   "source": [
    "# sagemaker libraries\n",
    "import boto3\n",
    "import sagemaker"
   ]
  },
  {
   "cell_type": "markdown",
   "id": "diagnostic-wallace",
   "metadata": {},
   "source": [
    "# Dataset input\n",
    "The dataset is obtained from https://www.kaggle.com/uciml/breast-cancer-wisconsin-data which was originally created by Bennett, Kristin P., and Olvi L. Mangasarian. \"Robust linear programming discrimination of two linearly inseparable sets.\" Optimization methods and software 1, no. 1 (1992): 23-34.\n",
    "The attribute information are as follows: 1) ID number 2) Diagnosis (M = malignant, B = benign) 3-32) Ten real-valued features are computed for each cell nucleus.\n",
    "Class distribution: 357 benign, 212 malignant"
   ]
  },
  {
   "cell_type": "code",
   "execution_count": 3,
   "id": "noted-particular",
   "metadata": {},
   "outputs": [
    {
     "data": {
      "text/html": [
       "<div>\n",
       "<style scoped>\n",
       "    .dataframe tbody tr th:only-of-type {\n",
       "        vertical-align: middle;\n",
       "    }\n",
       "\n",
       "    .dataframe tbody tr th {\n",
       "        vertical-align: top;\n",
       "    }\n",
       "\n",
       "    .dataframe thead th {\n",
       "        text-align: right;\n",
       "    }\n",
       "</style>\n",
       "<table border=\"1\" class=\"dataframe\">\n",
       "  <thead>\n",
       "    <tr style=\"text-align: right;\">\n",
       "      <th></th>\n",
       "      <th>diagnosis</th>\n",
       "      <th>radius_mean</th>\n",
       "      <th>texture_mean</th>\n",
       "      <th>perimeter_mean</th>\n",
       "      <th>area_mean</th>\n",
       "      <th>smoothness_mean</th>\n",
       "      <th>compactness_mean</th>\n",
       "      <th>concavity_mean</th>\n",
       "      <th>concave points_mean</th>\n",
       "      <th>symmetry_mean</th>\n",
       "      <th>...</th>\n",
       "      <th>radius_worst</th>\n",
       "      <th>texture_worst</th>\n",
       "      <th>perimeter_worst</th>\n",
       "      <th>area_worst</th>\n",
       "      <th>smoothness_worst</th>\n",
       "      <th>compactness_worst</th>\n",
       "      <th>concavity_worst</th>\n",
       "      <th>concave points_worst</th>\n",
       "      <th>symmetry_worst</th>\n",
       "      <th>fractal_dimension_worst</th>\n",
       "    </tr>\n",
       "    <tr>\n",
       "      <th>id</th>\n",
       "      <th></th>\n",
       "      <th></th>\n",
       "      <th></th>\n",
       "      <th></th>\n",
       "      <th></th>\n",
       "      <th></th>\n",
       "      <th></th>\n",
       "      <th></th>\n",
       "      <th></th>\n",
       "      <th></th>\n",
       "      <th></th>\n",
       "      <th></th>\n",
       "      <th></th>\n",
       "      <th></th>\n",
       "      <th></th>\n",
       "      <th></th>\n",
       "      <th></th>\n",
       "      <th></th>\n",
       "      <th></th>\n",
       "      <th></th>\n",
       "      <th></th>\n",
       "    </tr>\n",
       "  </thead>\n",
       "  <tbody>\n",
       "    <tr>\n",
       "      <th>842302</th>\n",
       "      <td>M</td>\n",
       "      <td>17.99</td>\n",
       "      <td>10.38</td>\n",
       "      <td>122.80</td>\n",
       "      <td>1001.0</td>\n",
       "      <td>0.11840</td>\n",
       "      <td>0.27760</td>\n",
       "      <td>0.3001</td>\n",
       "      <td>0.14710</td>\n",
       "      <td>0.2419</td>\n",
       "      <td>...</td>\n",
       "      <td>25.38</td>\n",
       "      <td>17.33</td>\n",
       "      <td>184.60</td>\n",
       "      <td>2019.0</td>\n",
       "      <td>0.1622</td>\n",
       "      <td>0.6656</td>\n",
       "      <td>0.7119</td>\n",
       "      <td>0.2654</td>\n",
       "      <td>0.4601</td>\n",
       "      <td>0.11890</td>\n",
       "    </tr>\n",
       "    <tr>\n",
       "      <th>842517</th>\n",
       "      <td>M</td>\n",
       "      <td>20.57</td>\n",
       "      <td>17.77</td>\n",
       "      <td>132.90</td>\n",
       "      <td>1326.0</td>\n",
       "      <td>0.08474</td>\n",
       "      <td>0.07864</td>\n",
       "      <td>0.0869</td>\n",
       "      <td>0.07017</td>\n",
       "      <td>0.1812</td>\n",
       "      <td>...</td>\n",
       "      <td>24.99</td>\n",
       "      <td>23.41</td>\n",
       "      <td>158.80</td>\n",
       "      <td>1956.0</td>\n",
       "      <td>0.1238</td>\n",
       "      <td>0.1866</td>\n",
       "      <td>0.2416</td>\n",
       "      <td>0.1860</td>\n",
       "      <td>0.2750</td>\n",
       "      <td>0.08902</td>\n",
       "    </tr>\n",
       "    <tr>\n",
       "      <th>84300903</th>\n",
       "      <td>M</td>\n",
       "      <td>19.69</td>\n",
       "      <td>21.25</td>\n",
       "      <td>130.00</td>\n",
       "      <td>1203.0</td>\n",
       "      <td>0.10960</td>\n",
       "      <td>0.15990</td>\n",
       "      <td>0.1974</td>\n",
       "      <td>0.12790</td>\n",
       "      <td>0.2069</td>\n",
       "      <td>...</td>\n",
       "      <td>23.57</td>\n",
       "      <td>25.53</td>\n",
       "      <td>152.50</td>\n",
       "      <td>1709.0</td>\n",
       "      <td>0.1444</td>\n",
       "      <td>0.4245</td>\n",
       "      <td>0.4504</td>\n",
       "      <td>0.2430</td>\n",
       "      <td>0.3613</td>\n",
       "      <td>0.08758</td>\n",
       "    </tr>\n",
       "    <tr>\n",
       "      <th>84348301</th>\n",
       "      <td>M</td>\n",
       "      <td>11.42</td>\n",
       "      <td>20.38</td>\n",
       "      <td>77.58</td>\n",
       "      <td>386.1</td>\n",
       "      <td>0.14250</td>\n",
       "      <td>0.28390</td>\n",
       "      <td>0.2414</td>\n",
       "      <td>0.10520</td>\n",
       "      <td>0.2597</td>\n",
       "      <td>...</td>\n",
       "      <td>14.91</td>\n",
       "      <td>26.50</td>\n",
       "      <td>98.87</td>\n",
       "      <td>567.7</td>\n",
       "      <td>0.2098</td>\n",
       "      <td>0.8663</td>\n",
       "      <td>0.6869</td>\n",
       "      <td>0.2575</td>\n",
       "      <td>0.6638</td>\n",
       "      <td>0.17300</td>\n",
       "    </tr>\n",
       "    <tr>\n",
       "      <th>84358402</th>\n",
       "      <td>M</td>\n",
       "      <td>20.29</td>\n",
       "      <td>14.34</td>\n",
       "      <td>135.10</td>\n",
       "      <td>1297.0</td>\n",
       "      <td>0.10030</td>\n",
       "      <td>0.13280</td>\n",
       "      <td>0.1980</td>\n",
       "      <td>0.10430</td>\n",
       "      <td>0.1809</td>\n",
       "      <td>...</td>\n",
       "      <td>22.54</td>\n",
       "      <td>16.67</td>\n",
       "      <td>152.20</td>\n",
       "      <td>1575.0</td>\n",
       "      <td>0.1374</td>\n",
       "      <td>0.2050</td>\n",
       "      <td>0.4000</td>\n",
       "      <td>0.1625</td>\n",
       "      <td>0.2364</td>\n",
       "      <td>0.07678</td>\n",
       "    </tr>\n",
       "  </tbody>\n",
       "</table>\n",
       "<p>5 rows × 31 columns</p>\n",
       "</div>"
      ],
      "text/plain": [
       "         diagnosis  radius_mean  texture_mean  perimeter_mean  area_mean  \\\n",
       "id                                                                         \n",
       "842302           M        17.99         10.38          122.80     1001.0   \n",
       "842517           M        20.57         17.77          132.90     1326.0   \n",
       "84300903         M        19.69         21.25          130.00     1203.0   \n",
       "84348301         M        11.42         20.38           77.58      386.1   \n",
       "84358402         M        20.29         14.34          135.10     1297.0   \n",
       "\n",
       "          smoothness_mean  compactness_mean  concavity_mean  \\\n",
       "id                                                            \n",
       "842302            0.11840           0.27760          0.3001   \n",
       "842517            0.08474           0.07864          0.0869   \n",
       "84300903          0.10960           0.15990          0.1974   \n",
       "84348301          0.14250           0.28390          0.2414   \n",
       "84358402          0.10030           0.13280          0.1980   \n",
       "\n",
       "          concave points_mean  symmetry_mean  ...  radius_worst  \\\n",
       "id                                            ...                 \n",
       "842302                0.14710         0.2419  ...         25.38   \n",
       "842517                0.07017         0.1812  ...         24.99   \n",
       "84300903              0.12790         0.2069  ...         23.57   \n",
       "84348301              0.10520         0.2597  ...         14.91   \n",
       "84358402              0.10430         0.1809  ...         22.54   \n",
       "\n",
       "          texture_worst  perimeter_worst  area_worst  smoothness_worst  \\\n",
       "id                                                                       \n",
       "842302            17.33           184.60      2019.0            0.1622   \n",
       "842517            23.41           158.80      1956.0            0.1238   \n",
       "84300903          25.53           152.50      1709.0            0.1444   \n",
       "84348301          26.50            98.87       567.7            0.2098   \n",
       "84358402          16.67           152.20      1575.0            0.1374   \n",
       "\n",
       "          compactness_worst  concavity_worst  concave points_worst  \\\n",
       "id                                                                   \n",
       "842302               0.6656           0.7119                0.2654   \n",
       "842517               0.1866           0.2416                0.1860   \n",
       "84300903             0.4245           0.4504                0.2430   \n",
       "84348301             0.8663           0.6869                0.2575   \n",
       "84358402             0.2050           0.4000                0.1625   \n",
       "\n",
       "          symmetry_worst  fractal_dimension_worst  \n",
       "id                                                 \n",
       "842302            0.4601                  0.11890  \n",
       "842517            0.2750                  0.08902  \n",
       "84300903          0.3613                  0.08758  \n",
       "84348301          0.6638                  0.17300  \n",
       "84358402          0.2364                  0.07678  \n",
       "\n",
       "[5 rows x 31 columns]"
      ]
     },
     "execution_count": 3,
     "metadata": {},
     "output_type": "execute_result"
    }
   ],
   "source": [
    "# Load the data and perform exploratory analysis\n",
    "df = pd.read_csv('data.csv', header = 0, index_col = 0)\n",
    "df.head()"
   ]
  },
  {
   "cell_type": "code",
   "execution_count": 4,
   "id": "sound-gardening",
   "metadata": {},
   "outputs": [
    {
     "data": {
      "image/png": "[encoded data removed]",
      "text/plain": [
       "<Figure size 432x288 with 2 Axes>"
      ]
     },
     "metadata": {
      "needs_background": "light"
     },
     "output_type": "display_data"
    },
    {
     "data": {
      "image/png": "[encoded data removed]",
      "text/plain": [
       "<Figure size 432x288 with 2 Axes>"
      ]
     },
     "metadata": {
      "needs_background": "light"
     },
     "output_type": "display_data"
    },
    {
     "data": {
      "image/png": "[encoded data removed]",
      "text/plain": [
       "<Figure size 432x288 with 2 Axes>"
      ]
     },
     "metadata": {
      "needs_background": "light"
     },
     "output_type": "display_data"
    },
    {
     "data": {
      "image/png": "[encoded data removed]",
      "text/plain": [
       "<Figure size 432x288 with 2 Axes>"
      ]
     },
     "metadata": {
      "needs_background": "light"
     },
     "output_type": "display_data"
    },
    {
     "data": {
      "image/png": "[encoded data removed]",
      "text/plain": [
       "<Figure size 432x288 with 2 Axes>"
      ]
     },
     "metadata": {
      "needs_background": "light"
     },
     "output_type": "display_data"
    },
    {
     "data": {
      "image/png": "[encoded data removed]",
      "text/plain": [
       "<Figure size 432x288 with 2 Axes>"
      ]
     },
     "metadata": {
      "needs_background": "light"
     },
     "output_type": "display_data"
    },
    {
     "data": {
      "image/png": "[encoded data removed]",
      "text/plain": [
       "<Figure size 432x288 with 2 Axes>"
      ]
     },
     "metadata": {
      "needs_background": "light"
     },
     "output_type": "display_data"
    },
    {
     "data": {
      "image/png": "[encoded data removed]",
      "text/plain": [
       "<Figure size 432x288 with 2 Axes>"
      ]
     },
     "metadata": {
      "needs_background": "light"
     },
     "output_type": "display_data"
    },
    {
     "data": {
      "image/png": "[encoded data removed]",
      "text/plain": [
       "<Figure size 432x288 with 2 Axes>"
      ]
     },
     "metadata": {
      "needs_background": "light"
     },
     "output_type": "display_data"
    },
    {
     "data": {
      "image/png": "[encoded data removed]",
      "text/plain": [
       "<Figure size 432x288 with 2 Axes>"
      ]
     },
     "metadata": {
      "needs_background": "light"
     },
     "output_type": "display_data"
    }
   ],
   "source": [
    "# Attributes \n",
    "attribute_list = ['radius_mean', 'texture_mean', 'perimeter_mean', 'area_mean', 'smoothness_mean', 'compactness_mean', 'concavity_mean', 'concave points_mean', 'symmetry_mean', 'fractal_dimension_mean']\n",
    "n_bins = 40\n",
    "\n",
    "for column_name in attribute_list:\n",
    "    fig,(ax1, ax2) =plt.subplots(1,2)\n",
    "    # get data by column_name and display a histogram\n",
    "    ax1.hist(df.loc[df['diagnosis'] == 'M', column_name], bins=n_bins)\n",
    "    ax2.hist(df.loc[df['diagnosis'] == 'B', column_name], bins=n_bins)\n",
    "    ax1.set_title( \"M: Hist \" + column_name)\n",
    "    ax2.set_title( \"B: Hist \" + column_name)"
   ]
  },
  {
   "cell_type": "markdown",
   "id": "present-player",
   "metadata": {},
   "source": [
    "**Exploratory Data Analysis** The plots above show that a fair distinction between malignant and benign features. Chief of them being histconcave_points, radius and perimeter.\n",
    "A casual observation shows that a Linear classifier may do a pretty good job. However we will implement a Neural Network here in PyTorch and possibly a Support Vector Machine for comparison"
   ]
  },
  {
   "cell_type": "code",
   "execution_count": 5,
   "id": "purple-holder",
   "metadata": {},
   "outputs": [
    {
     "name": "stdout",
     "output_type": "stream",
     "text": [
      "arn:aws:iam::172268057478:role/service-role/AmazonSageMaker-ExecutionRole-20210122T150167\n",
      "sagemaker-us-east-1-172268057478\n"
     ]
    }
   ],
   "source": [
    "from sagemaker import get_execution_role\n",
    "session =sagemaker.Session()\n",
    "# store the current SageMaker session\n",
    "# get IAM role\n",
    "role=get_execution_role()\n",
    "print(role)\n",
    "\n",
    "bucket_name=session.default_bucket()\n",
    "print(bucket_name)\n",
    "\n",
    "#define prefix and output path\n",
    "prefix='mamogram'\n",
    "output_path='s3://{}/{}/'.format(bucket_name,prefix)"
   ]
  },
  {
   "cell_type": "code",
   "execution_count": 6,
   "id": "indian-segment",
   "metadata": {},
   "outputs": [],
   "source": [
    "from sklearn.preprocessing import MinMaxScaler\n",
    "scaler  = MinMaxScaler()\n",
    "df_scaled = pd.DataFrame(scaler.fit_transform(df.iloc[:,1:]), columns=df.iloc[:,1:].columns)"
   ]
  },
  {
   "cell_type": "markdown",
   "id": "existing-candidate",
   "metadata": {},
   "source": [
    "# Dimensionality Reduction\n",
    "Given that we have many features present in this dataset, it is beneficial to reduce the number of features we will pass to our classifier.\n",
    "To do this, the principal component analysis from amazon sagemaker would be implemented as follows"
   ]
  },
  {
   "cell_type": "code",
   "execution_count": 71,
   "id": "informal-watts",
   "metadata": {},
   "outputs": [
    {
     "name": "stderr",
     "output_type": "stream",
     "text": [
      "train_instance_count has been renamed in sagemaker>=2.\n",
      "See: https://sagemaker.readthedocs.io/en/stable/v2.html for details.\n",
      "train_instance_type has been renamed in sagemaker>=2.\n",
      "See: https://sagemaker.readthedocs.io/en/stable/v2.html for details.\n"
     ]
    },
    {
     "name": "stdout",
     "output_type": "stream",
     "text": [
      "29\n"
     ]
    }
   ],
   "source": [
    "from sagemaker import PCA\n",
    "\n",
    "session = sagemaker.Session()\n",
    "\n",
    "N_COMPONENTS = df_scaled.shape[1] - 1 # I used -2 here previously as i was having nr components error, check again\n",
    "pca_SM = PCA(role = role, \n",
    "             train_instance_count = 1,\n",
    "             train_instance_type = 'ml.c4.xlarge', \n",
    "             output_path = output_path, \n",
    "             num_components = N_COMPONENTS, \n",
    "             sagemaker_session = session )\n",
    "\n",
    "print(N_COMPONENTS)\n",
    "\n",
    "train_data_np = df.iloc[:,1:].values.astype('float32')\n",
    "formatted_train_data = pca_SM.record_set( train_data_np )\n",
    "\n"
   ]
  },
  {
   "cell_type": "code",
   "execution_count": 72,
   "id": "geological-jonathan",
   "metadata": {},
   "outputs": [
    {
     "name": "stderr",
     "output_type": "stream",
     "text": [
      "Defaulting to the only supported framework/algorithm version: 1. Ignoring framework/algorithm version: 1.\n",
      "Defaulting to the only supported framework/algorithm version: 1. Ignoring framework/algorithm version: 1.\n"
     ]
    },
    {
     "name": "stdout",
     "output_type": "stream",
     "text": [
      "CPU times: user 4 µs, sys: 0 ns, total: 4 µs\n",
      "Wall time: 7.87 µs\n",
      "2021-03-14 23:26:00 Starting - Starting the training job...\n",
      "2021-03-14 23:26:23 Starting - Launching requested ML instancesProfilerReport-1615764360: InProgress\n",
      "......\n",
      "2021-03-14 23:27:27 Starting - Preparing the instances for training.........\n",
      "2021-03-14 23:28:56 Downloading - Downloading input data\n",
      "2021-03-14 23:28:56 Training - Downloading the training image...\n",
      "2021-03-14 23:29:30 Uploading - Uploading generated training model\n",
      "2021-03-14 23:29:30 Completed - Training job completed\n",
      "\u001b[34mDocker entrypoint called with argument(s): train\u001b[0m\n",
      "\u001b[34mRunning default environment configuration script\u001b[0m\n",
      "\u001b[34m[03/14/2021 23:29:20 INFO 139835981031232] Reading default configuration from /opt/amazon/lib/python2.7/site-packages/algorithm/resources/default-conf.json: {u'_num_gpus': u'auto', u'_log_level': u'info', u'subtract_mean': u'true', u'force_dense': u'true', u'epochs': 1, u'algorithm_mode': u'regular', u'extra_components': u'-1', u'_kvstore': u'dist_sync', u'_num_kv_servers': u'auto'}\u001b[0m\n",
      "\u001b[34m[03/14/2021 23:29:20 INFO 139835981031232] Merging with provided configuration from /opt/ml/input/config/hyperparameters.json: {u'feature_dim': u'30', u'mini_batch_size': u'500', u'num_components': u'29'}\u001b[0m\n",
      "\u001b[34m[03/14/2021 23:29:20 INFO 139835981031232] Final configuration: {u'num_components': u'29', u'_num_gpus': u'auto', u'_log_level': u'info', u'subtract_mean': u'true', u'force_dense': u'true', u'epochs': 1, u'algorithm_mode': u'regular', u'feature_dim': u'30', u'extra_components': u'-1', u'_kvstore': u'dist_sync', u'_num_kv_servers': u'auto', u'mini_batch_size': u'500'}\u001b[0m\n",
      "\u001b[34m[03/14/2021 23:29:20 WARNING 139835981031232] Loggers have already been setup.\u001b[0m\n",
      "\u001b[34m[03/14/2021 23:29:21 INFO 139835981031232] Launching parameter server for role scheduler\u001b[0m\n",
      "\u001b[34m[03/14/2021 23:29:21 INFO 139835981031232] {'ECS_CONTAINER_METADATA_URI': 'http://169.254.170.2/v3/17d9b9b3-6030-4b2a-8712-b6fe34c9fcdd', 'ECS_CONTAINER_METADATA_URI_V4': 'http://169.254.170.2/v4/17d9b9b3-6030-4b2a-8712-b6fe34c9fcdd', 'PROTOCOL_BUFFERS_PYTHON_IMPLEMENTATION_VERSION': '2', 'PATH': '/opt/amazon/bin:/usr/local/nvidia/bin:/usr/local/sbin:/usr/local/bin:/usr/sbin:/usr/bin:/sbin:/bin:/opt/amazon/bin:/opt/amazon/bin', 'SAGEMAKER_HTTP_PORT': '8080', 'HOME': '/root', 'PYTHONUNBUFFERED': 'TRUE', 'CANONICAL_ENVROOT': '/opt/amazon', 'LD_LIBRARY_PATH': '/opt/amazon/lib/python2.7/site-packages/cv2/../../../../lib:/usr/local/nvidia/lib64:/opt/amazon/lib', 'LANG': 'en_US.utf8', 'DMLC_INTERFACE': 'eth0', 'SHLVL': '1', 'AWS_REGION': 'us-east-1', 'NVIDIA_VISIBLE_DEVICES': 'void', 'TRAINING_JOB_NAME': 'pca-2021-03-14-23-26-00-015', 'PROTOCOL_BUFFERS_PYTHON_IMPLEMENTATION': 'cpp', 'ENVROOT': '/opt/amazon', 'SAGEMAKER_DATA_PATH': '/opt/ml', 'NVIDIA_DRIVER_CAPABILITIES': 'compute,utility', 'NVIDIA_REQUIRE_CUDA': 'cuda>=9.0', 'OMP_NUM_THREADS': '2', 'HOSTNAME': 'ip-10-0-137-184.ec2.internal', 'AWS_CONTAINER_CREDENTIALS_RELATIVE_URI': '/v2/credentials/91c3b244-c417-4d68-99d6-687f770a308f', 'PWD': '/', 'TRAINING_JOB_ARN': 'arn:aws:sagemaker:us-east-1:172268057478:training-job/pca-2021-03-14-23-26-00-015', 'AWS_EXECUTION_ENV': 'AWS_ECS_EC2'}\u001b[0m\n",
      "\u001b[34m[03/14/2021 23:29:21 INFO 139835981031232] envs={'ECS_CONTAINER_METADATA_URI': 'http://169.254.170.2/v3/17d9b9b3-6030-4b2a-8712-b6fe34c9fcdd', 'ECS_CONTAINER_METADATA_URI_V4': 'http://169.254.170.2/v4/17d9b9b3-6030-4b2a-8712-b6fe34c9fcdd', 'PROTOCOL_BUFFERS_PYTHON_IMPLEMENTATION_VERSION': '2', 'DMLC_NUM_WORKER': '1', 'DMLC_PS_ROOT_PORT': '9000', 'PATH': '/opt/amazon/bin:/usr/local/nvidia/bin:/usr/local/sbin:/usr/local/bin:/usr/sbin:/usr/bin:/sbin:/bin:/opt/amazon/bin:/opt/amazon/bin', 'SAGEMAKER_HTTP_PORT': '8080', 'HOME': '/root', 'PYTHONUNBUFFERED': 'TRUE', 'CANONICAL_ENVROOT': '/opt/amazon', 'LD_LIBRARY_PATH': '/opt/amazon/lib/python2.7/site-packages/cv2/../../../../lib:/usr/local/nvidia/lib64:/opt/amazon/lib', 'LANG': 'en_US.utf8', 'DMLC_INTERFACE': 'eth0', 'SHLVL': '1', 'DMLC_PS_ROOT_URI': '10.0.137.184', 'AWS_REGION': 'us-east-1', 'NVIDIA_VISIBLE_DEVICES': 'void', 'TRAINING_JOB_NAME': 'pca-2021-03-14-23-26-00-015', 'PROTOCOL_BUFFERS_PYTHON_IMPLEMENTATION': 'cpp', 'ENVROOT': '/opt/amazon', 'SAGEMAKER_DATA_PATH': '/opt/ml', 'NVIDIA_DRIVER_CAPABILITIES': 'compute,utility', 'NVIDIA_REQUIRE_CUDA': 'cuda>=9.0', 'OMP_NUM_THREADS': '2', 'HOSTNAME': 'ip-10-0-137-184.ec2.internal', 'AWS_CONTAINER_CREDENTIALS_RELATIVE_URI': '/v2/credentials/91c3b244-c417-4d68-99d6-687f770a308f', 'DMLC_ROLE': 'scheduler', 'PWD': '/', 'DMLC_NUM_SERVER': '1', 'TRAINING_JOB_ARN': 'arn:aws:sagemaker:us-east-1:172268057478:training-job/pca-2021-03-14-23-26-00-015', 'AWS_EXECUTION_ENV': 'AWS_ECS_EC2'}\u001b[0m\n",
      "\u001b[34m[03/14/2021 23:29:21 INFO 139835981031232] Launching parameter server for role server\u001b[0m\n",
      "\u001b[34m[03/14/2021 23:29:21 INFO 139835981031232] {'ECS_CONTAINER_METADATA_URI': 'http://169.254.170.2/v3/17d9b9b3-6030-4b2a-8712-b6fe34c9fcdd', 'ECS_CONTAINER_METADATA_URI_V4': 'http://169.254.170.2/v4/17d9b9b3-6030-4b2a-8712-b6fe34c9fcdd', 'PROTOCOL_BUFFERS_PYTHON_IMPLEMENTATION_VERSION': '2', 'PATH': '/opt/amazon/bin:/usr/local/nvidia/bin:/usr/local/sbin:/usr/local/bin:/usr/sbin:/usr/bin:/sbin:/bin:/opt/amazon/bin:/opt/amazon/bin', 'SAGEMAKER_HTTP_PORT': '8080', 'HOME': '/root', 'PYTHONUNBUFFERED': 'TRUE', 'CANONICAL_ENVROOT': '/opt/amazon', 'LD_LIBRARY_PATH': '/opt/amazon/lib/python2.7/site-packages/cv2/../../../../lib:/usr/local/nvidia/lib64:/opt/amazon/lib', 'LANG': 'en_US.utf8', 'DMLC_INTERFACE': 'eth0', 'SHLVL': '1', 'AWS_REGION': 'us-east-1', 'NVIDIA_VISIBLE_DEVICES': 'void', 'TRAINING_JOB_NAME': 'pca-2021-03-14-23-26-00-015', 'PROTOCOL_BUFFERS_PYTHON_IMPLEMENTATION': 'cpp', 'ENVROOT': '/opt/amazon', 'SAGEMAKER_DATA_PATH': '/opt/ml', 'NVIDIA_DRIVER_CAPABILITIES': 'compute,utility', 'NVIDIA_REQUIRE_CUDA': 'cuda>=9.0', 'OMP_NUM_THREADS': '2', 'HOSTNAME': 'ip-10-0-137-184.ec2.internal', 'AWS_CONTAINER_CREDENTIALS_RELATIVE_URI': '/v2/credentials/91c3b244-c417-4d68-99d6-687f770a308f', 'PWD': '/', 'TRAINING_JOB_ARN': 'arn:aws:sagemaker:us-east-1:172268057478:training-job/pca-2021-03-14-23-26-00-015', 'AWS_EXECUTION_ENV': 'AWS_ECS_EC2'}\u001b[0m\n",
      "\u001b[34m[03/14/2021 23:29:21 INFO 139835981031232] envs={'ECS_CONTAINER_METADATA_URI': 'http://169.254.170.2/v3/17d9b9b3-6030-4b2a-8712-b6fe34c9fcdd', 'ECS_CONTAINER_METADATA_URI_V4': 'http://169.254.170.2/v4/17d9b9b3-6030-4b2a-8712-b6fe34c9fcdd', 'PROTOCOL_BUFFERS_PYTHON_IMPLEMENTATION_VERSION': '2', 'DMLC_NUM_WORKER': '1', 'DMLC_PS_ROOT_PORT': '9000', 'PATH': '/opt/amazon/bin:/usr/local/nvidia/bin:/usr/local/sbin:/usr/local/bin:/usr/sbin:/usr/bin:/sbin:/bin:/opt/amazon/bin:/opt/amazon/bin', 'SAGEMAKER_HTTP_PORT': '8080', 'HOME': '/root', 'PYTHONUNBUFFERED': 'TRUE', 'CANONICAL_ENVROOT': '/opt/amazon', 'LD_LIBRARY_PATH': '/opt/amazon/lib/python2.7/site-packages/cv2/../../../../lib:/usr/local/nvidia/lib64:/opt/amazon/lib', 'LANG': 'en_US.utf8', 'DMLC_INTERFACE': 'eth0', 'SHLVL': '1', 'DMLC_PS_ROOT_URI': '10.0.137.184', 'AWS_REGION': 'us-east-1', 'NVIDIA_VISIBLE_DEVICES': 'void', 'TRAINING_JOB_NAME': 'pca-2021-03-14-23-26-00-015', 'PROTOCOL_BUFFERS_PYTHON_IMPLEMENTATION': 'cpp', 'ENVROOT': '/opt/amazon', 'SAGEMAKER_DATA_PATH': '/opt/ml', 'NVIDIA_DRIVER_CAPABILITIES': 'compute,utility', 'NVIDIA_REQUIRE_CUDA': 'cuda>=9.0', 'OMP_NUM_THREADS': '2', 'HOSTNAME': 'ip-10-0-137-184.ec2.internal', 'AWS_CONTAINER_CREDENTIALS_RELATIVE_URI': '/v2/credentials/91c3b244-c417-4d68-99d6-687f770a308f', 'DMLC_ROLE': 'server', 'PWD': '/', 'DMLC_NUM_SERVER': '1', 'TRAINING_JOB_ARN': 'arn:aws:sagemaker:us-east-1:172268057478:training-job/pca-2021-03-14-23-26-00-015', 'AWS_EXECUTION_ENV': 'AWS_ECS_EC2'}\u001b[0m\n",
      "\u001b[34m[03/14/2021 23:29:21 INFO 139835981031232] Environment: {'ECS_CONTAINER_METADATA_URI': 'http://169.254.170.2/v3/17d9b9b3-6030-4b2a-8712-b6fe34c9fcdd', 'ECS_CONTAINER_METADATA_URI_V4': 'http://169.254.170.2/v4/17d9b9b3-6030-4b2a-8712-b6fe34c9fcdd', 'PROTOCOL_BUFFERS_PYTHON_IMPLEMENTATION_VERSION': '2', 'DMLC_PS_ROOT_PORT': '9000', 'DMLC_NUM_WORKER': '1', 'SAGEMAKER_HTTP_PORT': '8080', 'PATH': '/opt/amazon/bin:/usr/local/nvidia/bin:/usr/local/sbin:/usr/local/bin:/usr/sbin:/usr/bin:/sbin:/bin:/opt/amazon/bin:/opt/amazon/bin', 'PYTHONUNBUFFERED': 'TRUE', 'CANONICAL_ENVROOT': '/opt/amazon', 'LD_LIBRARY_PATH': '/opt/amazon/lib/python2.7/site-packages/cv2/../../../../lib:/usr/local/nvidia/lib64:/opt/amazon/lib', 'LANG': 'en_US.utf8', 'DMLC_INTERFACE': 'eth0', 'SHLVL': '1', 'DMLC_PS_ROOT_URI': '10.0.137.184', 'AWS_REGION': 'us-east-1', 'NVIDIA_VISIBLE_DEVICES': 'void', 'TRAINING_JOB_NAME': 'pca-2021-03-14-23-26-00-015', 'HOME': '/root', 'PROTOCOL_BUFFERS_PYTHON_IMPLEMENTATION': 'cpp', 'ENVROOT': '/opt/amazon', 'SAGEMAKER_DATA_PATH': '/opt/ml', 'NVIDIA_DRIVER_CAPABILITIES': 'compute,utility', 'NVIDIA_REQUIRE_CUDA': 'cuda>=9.0', 'OMP_NUM_THREADS': '2', 'HOSTNAME': 'ip-10-0-137-184.ec2.internal', 'AWS_CONTAINER_CREDENTIALS_RELATIVE_URI': '/v2/credentials/91c3b244-c417-4d68-99d6-687f770a308f', 'DMLC_ROLE': 'worker', 'PWD': '/', 'DMLC_NUM_SERVER': '1', 'TRAINING_JOB_ARN': 'arn:aws:sagemaker:us-east-1:172268057478:training-job/pca-2021-03-14-23-26-00-015', 'AWS_EXECUTION_ENV': 'AWS_ECS_EC2'}\u001b[0m\n",
      "\u001b[34mProcess 61 is a shell:scheduler.\u001b[0m\n",
      "\u001b[34mProcess 70 is a shell:server.\u001b[0m\n",
      "\u001b[34mProcess 1 is a worker.\u001b[0m\n",
      "\u001b[34m[03/14/2021 23:29:21 INFO 139835981031232] Using default worker.\u001b[0m\n",
      "\u001b[34m[03/14/2021 23:29:21 INFO 139835981031232] Loaded iterator creator application/x-recordio-protobuf for content type ('application/x-recordio-protobuf', '1.0')\u001b[0m\n",
      "\u001b[34m[03/14/2021 23:29:21 INFO 139835981031232] Loaded iterator creator application/x-labeled-vector-protobuf for content type ('application/x-labeled-vector-protobuf', '1.0')\u001b[0m\n",
      "\u001b[34m[03/14/2021 23:29:21 INFO 139835981031232] Loaded iterator creator protobuf for content type ('protobuf', '1.0')\u001b[0m\n",
      "\u001b[34m[03/14/2021 23:29:21 INFO 139835981031232] Checkpoint loading and saving are disabled.\u001b[0m\n",
      "\u001b[34m[03/14/2021 23:29:21 INFO 139835981031232] Create Store: dist_sync\u001b[0m\n",
      "\u001b[34m[03/14/2021 23:29:22 INFO 139835981031232] nvidia-smi took: 0.0251789093018 secs to identify 0 gpus\u001b[0m\n",
      "\u001b[34m[03/14/2021 23:29:22 INFO 139835981031232] Number of GPUs being used: 0\u001b[0m\n",
      "\u001b[34m[03/14/2021 23:29:22 INFO 139835981031232] The default executor is <PCAExecutor on cpu(0)>.\u001b[0m\n",
      "\u001b[34m[03/14/2021 23:29:22 INFO 139835981031232] 30 feature(s) found in 'data'.\u001b[0m\n",
      "\u001b[34m[03/14/2021 23:29:22 INFO 139835981031232] <PCAExecutor on cpu(0)> is assigned to batch slice from 0 to 499.\u001b[0m\n",
      "\u001b[34m#metrics {\"Metrics\": {\"initialize.time\": {\"count\": 1, \"max\": 591.7248725891113, \"sum\": 591.7248725891113, \"min\": 591.7248725891113}}, \"EndTime\": 1615764562.417132, \"Dimensions\": {\"Host\": \"algo-1\", \"Operation\": \"training\", \"Algorithm\": \"PCA\"}, \"StartTime\": 1615764561.821979}\n",
      "\u001b[0m\n",
      "\u001b[34m#metrics {\"Metrics\": {\"Max Batches Seen Between Resets\": {\"count\": 1, \"max\": 0, \"sum\": 0.0, \"min\": 0}, \"Number of Batches Since Last Reset\": {\"count\": 1, \"max\": 0, \"sum\": 0.0, \"min\": 0}, \"Number of Records Since Last Reset\": {\"count\": 1, \"max\": 0, \"sum\": 0.0, \"min\": 0}, \"Total Batches Seen\": {\"count\": 1, \"max\": 0, \"sum\": 0.0, \"min\": 0}, \"Total Records Seen\": {\"count\": 1, \"max\": 0, \"sum\": 0.0, \"min\": 0}, \"Max Records Seen Between Resets\": {\"count\": 1, \"max\": 0, \"sum\": 0.0, \"min\": 0}, \"Reset Count\": {\"count\": 1, \"max\": 0, \"sum\": 0.0, \"min\": 0}}, \"EndTime\": 1615764562.417396, \"Dimensions\": {\"Host\": \"algo-1\", \"Meta\": \"init_train_data_iter\", \"Operation\": \"training\", \"Algorithm\": \"PCA\"}, \"StartTime\": 1615764562.417332}\n",
      "\u001b[0m\n",
      "\u001b[34m[2021-03-14 23:29:22.417] [tensorio] [info] epoch_stats={\"data_pipeline\": \"/opt/ml/input/data/train\", \"epoch\": 0, \"duration\": 594, \"num_examples\": 1, \"num_bytes\": 74000}\u001b[0m\n",
      "\u001b[34m[2021-03-14 23:29:22.459] [tensorio] [info] epoch_stats={\"data_pipeline\": \"/opt/ml/input/data/train\", \"epoch\": 1, \"duration\": 33, \"num_examples\": 2, \"num_bytes\": 84212}\u001b[0m\n",
      "\u001b[34m#metrics {\"Metrics\": {\"epochs\": {\"count\": 1, \"max\": 1, \"sum\": 1.0, \"min\": 1}, \"update.time\": {\"count\": 1, \"max\": 41.70703887939453, \"sum\": 41.70703887939453, \"min\": 41.70703887939453}}, \"EndTime\": 1615764562.459498, \"Dimensions\": {\"Host\": \"algo-1\", \"Operation\": \"training\", \"Algorithm\": \"PCA\"}, \"StartTime\": 1615764562.41725}\n",
      "\u001b[0m\n",
      "\u001b[34m[03/14/2021 23:29:22 INFO 139835981031232] #progress_metric: host=algo-1, completed 100 % of epochs\u001b[0m\n",
      "\u001b[34m#metrics {\"Metrics\": {\"Max Batches Seen Between Resets\": {\"count\": 1, \"max\": 2, \"sum\": 2.0, \"min\": 2}, \"Number of Batches Since Last Reset\": {\"count\": 1, \"max\": 2, \"sum\": 2.0, \"min\": 2}, \"Number of Records Since Last Reset\": {\"count\": 1, \"max\": 569, \"sum\": 569.0, \"min\": 569}, \"Total Batches Seen\": {\"count\": 1, \"max\": 2, \"sum\": 2.0, \"min\": 2}, \"Total Records Seen\": {\"count\": 1, \"max\": 569, \"sum\": 569.0, \"min\": 569}, \"Max Records Seen Between Resets\": {\"count\": 1, \"max\": 569, \"sum\": 569.0, \"min\": 569}, \"Reset Count\": {\"count\": 1, \"max\": 1, \"sum\": 1.0, \"min\": 1}}, \"EndTime\": 1615764562.459954, \"Dimensions\": {\"Host\": \"algo-1\", \"Meta\": \"training_data_iter\", \"Operation\": \"training\", \"Algorithm\": \"PCA\", \"epoch\": 0}, \"StartTime\": 1615764562.417761}\n",
      "\u001b[0m\n",
      "\u001b[34m[03/14/2021 23:29:22 INFO 139835981031232] #throughput_metric: host=algo-1, train throughput=13447.448209 records/second\u001b[0m\n",
      "\u001b[34m#metrics {\"Metrics\": {\"finalize.time\": {\"count\": 1, \"max\": 20.277023315429688, \"sum\": 20.277023315429688, \"min\": 20.277023315429688}}, \"EndTime\": 1615764562.480511, \"Dimensions\": {\"Host\": \"algo-1\", \"Operation\": \"training\", \"Algorithm\": \"PCA\"}, \"StartTime\": 1615764562.459735}\n",
      "\u001b[0m\n",
      "\u001b[34m[03/14/2021 23:29:22 INFO 139835981031232] Test data is not provided.\u001b[0m\n",
      "\u001b[34m#metrics {\"Metrics\": {\"totaltime\": {\"count\": 1, \"max\": 2334.949016571045, \"sum\": 2334.949016571045, \"min\": 2334.949016571045}, \"setuptime\": {\"count\": 1, \"max\": 1542.922019958496, \"sum\": 1542.922019958496, \"min\": 1542.922019958496}}, \"EndTime\": 1615764562.486848, \"Dimensions\": {\"Host\": \"algo-1\", \"Operation\": \"training\", \"Algorithm\": \"PCA\"}, \"StartTime\": 1615764562.48056}\n",
      "\u001b[0m\n",
      "Training seconds: 40\n",
      "Billable seconds: 40\n"
     ]
    }
   ],
   "source": [
    "#Train the PCA model\n",
    "%time\n",
    "# train the PCA mode on the formatted data\n",
    "pca_SM.fit(formatted_train_data)"
   ]
  },
  {
   "cell_type": "code",
   "execution_count": 78,
   "id": "frank-refund",
   "metadata": {},
   "outputs": [
    {
     "name": "stdout",
     "output_type": "stream",
     "text": [
      "mamogram/pca-2021-03-14-23-26-00-015/output/model.tar.gz\n"
     ]
    },
    {
     "data": {
      "text/plain": [
       "2304"
      ]
     },
     "execution_count": 78,
     "metadata": {},
     "output_type": "execute_result"
    }
   ],
   "source": [
    "training_job_name='pca-2021-03-14-23-26-00-015' \n",
    "model_key=os.path.join(prefix,training_job_name,'output/model.tar.gz')\n",
    "\n",
    "print(model_key)\n",
    "# download and unzip model\n",
    "boto3.resource('s3').Bucket(bucket_name).download_file(model_key,'model.tar.gz')\n",
    "# unzipping as model_algo-1\n",
    "os.system('tar -zxvf model.tar.gz')\n",
    "os.system('unzip model_algo-1')"
   ]
  },
  {
   "cell_type": "markdown",
   "id": "handled-smell",
   "metadata": {},
   "source": [
    "# Select Nr of components to retain using explained variance\n",
    "We will select a number of components that retain at least 85% of the explained variance in the original data"
   ]
  },
  {
   "cell_type": "code",
   "execution_count": 79,
   "id": "greenhouse-semester",
   "metadata": {},
   "outputs": [],
   "source": [
    "import mxnet as mx\n",
    "# loading the unzipped artifacts\n",
    "pca_model_params=mx.ndarray.load('model_algo-1')\n",
    "\n",
    "# get selected params\n",
    "s=pd.DataFrame(pca_model_params['s'].asnumpy())"
   ]
  },
  {
   "cell_type": "code",
   "execution_count": 80,
   "id": "formal-indonesian",
   "metadata": {},
   "outputs": [],
   "source": [
    "def explained_variance(s , n_top_components ):\n",
    "    '''Calculates the approx. data variance that n_top_components captures.\n",
    "    :param s: A dataframe of singular values for top components;\n",
    "    the top value is in the last row.\n",
    "    :param n_top_components: An integer, the number of top components to use.\n",
    "    :return: The expected data variance covered by the n_top_components.'''\n",
    "    start_idx = N_COMPONENTS - n_top_components\n",
    "    # calculate approx variance\n",
    "    exp_variance = np.square(s.iloc[start_idx:,:]).sum()/np.square(s).sum()\n",
    "    return exp_variance[0]"
   ]
  },
  {
   "cell_type": "code",
   "execution_count": 81,
   "id": "sharing-tourism",
   "metadata": {},
   "outputs": [
    {
     "name": "stdout",
     "output_type": "stream",
     "text": [
      "----------------------------------------\n",
      "\n",
      "n_top_component    Explained variance: \n",
      " 1                  98.204499 %\n",
      " 2                  99.822116 %\n",
      " 3                  99.977863 %\n",
      " 4                  99.989957 %\n",
      " 5                  99.998790 %\n",
      " 6                  99.999452 %\n",
      " 7                  99.999857 %\n",
      " 8                  99.999928 %\n",
      " 9                  99.999970 %\n",
      " 10                 99.999988 %\n",
      " 11                 99.999994 %\n",
      " 12                 100.000000 %\n",
      " 13                 100.000000 %\n"
     ]
    }
   ],
   "source": [
    "# test cell\n",
    "#print(s)\n",
    "n_top_components = N_COMPONENTS//2\n",
    "# select a set of values for the number of top components and examing the corresponding explained variance\n",
    "# calculate the explained variance\n",
    "\n",
    "\n",
    "print('----------------------------------------\\n')\n",
    "print('n_top_component   ', 'Explained variance: ')\n",
    "for top_component in range(1,n_top_components):\n",
    "    exp_variance = explained_variance ( s , top_component )\n",
    "    print ( ' %-14d     %-9.6f %%' %(top_component, exp_variance*100 ) )\n"
   ]
  },
  {
   "cell_type": "markdown",
   "id": "sealed-thirty",
   "metadata": {},
   "source": [
    "**Nr of components to choose** : The analysis above shows that we can get away with 5-6 features and yet retain a huge percentage of the variance in the orginial dataset"
   ]
  },
  {
   "cell_type": "code",
   "execution_count": 82,
   "id": "running-timothy",
   "metadata": {},
   "outputs": [
    {
     "name": "stderr",
     "output_type": "stream",
     "text": [
      "Defaulting to the only supported framework/algorithm version: 1. Ignoring framework/algorithm version: 1.\n"
     ]
    },
    {
     "name": "stdout",
     "output_type": "stream",
     "text": [
      "CPU times: user 4 µs, sys: 0 ns, total: 4 µs\n",
      "Wall time: 9.06 µs\n",
      "-----------------!"
     ]
    }
   ],
   "source": [
    "# Deploy the pca\n",
    "%time\n",
    "pca_predictor = pca_SM.deploy(initial_instance_count=1,instance_type='ml.t2.medium')"
   ]
  },
  {
   "cell_type": "code",
   "execution_count": 83,
   "id": "returning-congress",
   "metadata": {},
   "outputs": [],
   "source": [
    "# pass np train data to the PCA model\n",
    "train_pca = pca_predictor.predict(train_data_np)"
   ]
  },
  {
   "cell_type": "code",
   "execution_count": 84,
   "id": "heavy-executive",
   "metadata": {},
   "outputs": [],
   "source": [
    "# create dimensionality-reduced data\n",
    "def create_transformed_df( train_pca , df_scaled , n_top_components ):\n",
    "    ''' Return a dataframe of data points with component features.\n",
    "    The dataframe should be indexed by id and contain component values.\n",
    "    :param train_pca: A list of pca training data, returned by a PCA model.\n",
    "    :param df_scaled: A dataframe of normalized, original features.\n",
    "    :param n_top_components: An integer, the number of top components to use.\n",
    "    :return: A dataframe, indexed by id, with n_top_component values as columns.\n",
    "    '''\n",
    "    # create new dataframe to add data to\n",
    "    df_transformed = pd.DataFrame()\n",
    "    # for each of our new, transformed data points # append the component values to the dataframe\n",
    "    for data in train_pca:\n",
    "        # get component values for each data point\n",
    "        components = data.label['projection'].float32_tensor.values\n",
    "        df_transformed = df_transformed.append([list(components)])\n",
    "    \n",
    "    df_transformed.index=df_scaled.index # index by id as in the previous dataframe\n",
    "    \n",
    "    # keep only the top n components\n",
    "    start_idx = N_COMPONENTS-n_top_components\n",
    "    df_transformed=df_transformed.iloc[:,start_idx:]\n",
    "    \n",
    "    # reverse columns, component order\n",
    "    return df_transformed.iloc[:, ::-1]"
   ]
  },
  {
   "cell_type": "code",
   "execution_count": 85,
   "id": "imposed-motel",
   "metadata": {},
   "outputs": [
    {
     "data": {
      "text/html": [
       "<div>\n",
       "<style scoped>\n",
       "    .dataframe tbody tr th:only-of-type {\n",
       "        vertical-align: middle;\n",
       "    }\n",
       "\n",
       "    .dataframe tbody tr th {\n",
       "        vertical-align: top;\n",
       "    }\n",
       "\n",
       "    .dataframe thead th {\n",
       "        text-align: right;\n",
       "    }\n",
       "</style>\n",
       "<table border=\"1\" class=\"dataframe\">\n",
       "  <thead>\n",
       "    <tr style=\"text-align: right;\">\n",
       "      <th></th>\n",
       "      <th>c_1</th>\n",
       "      <th>c_2</th>\n",
       "      <th>c_3</th>\n",
       "      <th>c_4</th>\n",
       "      <th>c_5</th>\n",
       "    </tr>\n",
       "  </thead>\n",
       "  <tbody>\n",
       "    <tr>\n",
       "      <th>0</th>\n",
       "      <td>1160.142456</td>\n",
       "      <td>-293.917755</td>\n",
       "      <td>48.578362</td>\n",
       "      <td>8.711304</td>\n",
       "      <td>-32.000587</td>\n",
       "    </tr>\n",
       "    <tr>\n",
       "      <th>1</th>\n",
       "      <td>1269.122437</td>\n",
       "      <td>15.630157</td>\n",
       "      <td>-35.394497</td>\n",
       "      <td>-17.861328</td>\n",
       "      <td>4.335159</td>\n",
       "    </tr>\n",
       "    <tr>\n",
       "      <th>2</th>\n",
       "      <td>995.793823</td>\n",
       "      <td>39.156708</td>\n",
       "      <td>-1.709747</td>\n",
       "      <td>-4.199310</td>\n",
       "      <td>0.466625</td>\n",
       "    </tr>\n",
       "    <tr>\n",
       "      <th>3</th>\n",
       "      <td>-407.180725</td>\n",
       "      <td>-67.380241</td>\n",
       "      <td>8.672813</td>\n",
       "      <td>11.759758</td>\n",
       "      <td>-7.115633</td>\n",
       "    </tr>\n",
       "    <tr>\n",
       "      <th>4</th>\n",
       "      <td>930.341309</td>\n",
       "      <td>189.340622</td>\n",
       "      <td>1.374796</td>\n",
       "      <td>-8.499107</td>\n",
       "      <td>-7.613194</td>\n",
       "    </tr>\n",
       "  </tbody>\n",
       "</table>\n",
       "</div>"
      ],
      "text/plain": [
       "           c_1         c_2        c_3        c_4        c_5\n",
       "0  1160.142456 -293.917755  48.578362   8.711304 -32.000587\n",
       "1  1269.122437   15.630157 -35.394497 -17.861328   4.335159\n",
       "2   995.793823   39.156708  -1.709747  -4.199310   0.466625\n",
       "3  -407.180725  -67.380241   8.672813  11.759758  -7.115633\n",
       "4   930.341309  189.340622   1.374796  -8.499107  -7.613194"
      ]
     },
     "execution_count": 85,
     "metadata": {},
     "output_type": "execute_result"
    }
   ],
   "source": [
    "# specify top n\n",
    "top_n = 5\n",
    "# call your function and create a new dataframe\n",
    "df_transformed = create_transformed_df(train_pca, df_scaled, n_top_components = top_n)\n",
    "\n",
    "# rename columns\n",
    "PCA_list = ['c_1','c_2','c_3','c_4','c_5']\n",
    "\n",
    "df_transformed.columns = PCA_list\n",
    "\n",
    "# print result\n",
    "df_transformed.head()"
   ]
  },
  {
   "cell_type": "markdown",
   "id": "instant-samuel",
   "metadata": {},
   "source": [
    "# Prepare the data for training\n",
    "We will use 6 features from the reduced dimensionality produced by the PCA\n",
    "Split the data into test train : 67% : 33%\n",
    "Store the training and test data in csv and upload to s3\n"
   ]
  },
  {
   "cell_type": "code",
   "execution_count": 86,
   "id": "opening-jerusalem",
   "metadata": {},
   "outputs": [],
   "source": [
    "dict_category = {'B':0, 'M':1}\n",
    "target = df.iloc[:,0].apply(lambda x : dict_category[x]) # convert the class into 0-1 Binary and store the target class \n",
    "X_train,X_test,Y_train,Y_test = sklearn.model_selection.train_test_split(df_transformed, target,test_size=0.3)"
   ]
  },
  {
   "cell_type": "code",
   "execution_count": 87,
   "id": "excess-opera",
   "metadata": {},
   "outputs": [
    {
     "data": {
      "text/html": [
       "<div>\n",
       "<style scoped>\n",
       "    .dataframe tbody tr th:only-of-type {\n",
       "        vertical-align: middle;\n",
       "    }\n",
       "\n",
       "    .dataframe tbody tr th {\n",
       "        vertical-align: top;\n",
       "    }\n",
       "\n",
       "    .dataframe thead th {\n",
       "        text-align: right;\n",
       "    }\n",
       "</style>\n",
       "<table border=\"1\" class=\"dataframe\">\n",
       "  <thead>\n",
       "    <tr style=\"text-align: right;\">\n",
       "      <th></th>\n",
       "      <th>c_1</th>\n",
       "      <th>c_2</th>\n",
       "      <th>c_3</th>\n",
       "      <th>c_4</th>\n",
       "      <th>c_5</th>\n",
       "    </tr>\n",
       "  </thead>\n",
       "  <tbody>\n",
       "    <tr>\n",
       "      <th>0</th>\n",
       "      <td>1160.142456</td>\n",
       "      <td>-293.917755</td>\n",
       "      <td>48.578362</td>\n",
       "      <td>8.711304</td>\n",
       "      <td>-32.000587</td>\n",
       "    </tr>\n",
       "    <tr>\n",
       "      <th>1</th>\n",
       "      <td>1269.122437</td>\n",
       "      <td>15.630157</td>\n",
       "      <td>-35.394497</td>\n",
       "      <td>-17.861328</td>\n",
       "      <td>4.335159</td>\n",
       "    </tr>\n",
       "    <tr>\n",
       "      <th>2</th>\n",
       "      <td>995.793823</td>\n",
       "      <td>39.156708</td>\n",
       "      <td>-1.709747</td>\n",
       "      <td>-4.199310</td>\n",
       "      <td>0.466625</td>\n",
       "    </tr>\n",
       "    <tr>\n",
       "      <th>3</th>\n",
       "      <td>-407.180725</td>\n",
       "      <td>-67.380241</td>\n",
       "      <td>8.672813</td>\n",
       "      <td>11.759758</td>\n",
       "      <td>-7.115633</td>\n",
       "    </tr>\n",
       "    <tr>\n",
       "      <th>4</th>\n",
       "      <td>930.341309</td>\n",
       "      <td>189.340622</td>\n",
       "      <td>1.374796</td>\n",
       "      <td>-8.499107</td>\n",
       "      <td>-7.613194</td>\n",
       "    </tr>\n",
       "  </tbody>\n",
       "</table>\n",
       "</div>"
      ],
      "text/plain": [
       "           c_1         c_2        c_3        c_4        c_5\n",
       "0  1160.142456 -293.917755  48.578362   8.711304 -32.000587\n",
       "1  1269.122437   15.630157 -35.394497 -17.861328   4.335159\n",
       "2   995.793823   39.156708  -1.709747  -4.199310   0.466625\n",
       "3  -407.180725  -67.380241   8.672813  11.759758  -7.115633\n",
       "4   930.341309  189.340622   1.374796  -8.499107  -7.613194"
      ]
     },
     "execution_count": 87,
     "metadata": {},
     "output_type": "execute_result"
    }
   ],
   "source": [
    "df_transformed.head()"
   ]
  },
  {
   "cell_type": "code",
   "execution_count": 88,
   "id": "common-clothing",
   "metadata": {},
   "outputs": [
    {
     "data": {
      "text/plain": [
       "id\n",
       "842302      1\n",
       "842517      1\n",
       "84300903    1\n",
       "84348301    1\n",
       "84358402    1\n",
       "Name: diagnosis, dtype: int64"
      ]
     },
     "execution_count": 88,
     "metadata": {},
     "output_type": "execute_result"
    }
   ],
   "source": [
    "target.head()"
   ]
  },
  {
   "cell_type": "code",
   "execution_count": 89,
   "id": "colonial-favorite",
   "metadata": {},
   "outputs": [],
   "source": [
    "# This is our local data directory. We need to make sure that it exists.\n",
    "data_dir = '../Capstone Project/data/'\n",
    "if not os.path.exists( data_dir ):\n",
    "    os.makedirs(data_dir)"
   ]
  },
  {
   "cell_type": "code",
   "execution_count": 90,
   "id": "confirmed-program",
   "metadata": {},
   "outputs": [],
   "source": [
    "# create the training and test data and save locally\n",
    "#pd.concat([pd.DataFrame(Y_test),pd.DataFrame(X_test)],axis=1).to_csv(os.path.join(data_dir,'test.csv'),header=False,index=False)\n",
    "#pd.concat([pd.DataFrame(Y_train),pd.DataFrame(X_train)],axis=1).to_csv(os.path.join(data_dir,'train.csv'),header=False,index=False) \n",
    "\n",
    "#print(np.reshape(Y_test.values, (Y_test.shape[0], 1)).shape)\n",
    "#print(X_test.values.shape)\n",
    "test = np.hstack([np.reshape(Y_test.values, (Y_test.shape[0], 1)), X_test.values])\n",
    "train = np.hstack([np.reshape(Y_train.values, (Y_train.shape[0], 1)), X_train.values])\n",
    "pd.DataFrame(test).to_csv(os.path.join(data_dir,'test.csv'),header=False,index=False)\n",
    "pd.DataFrame(train).to_csv(os.path.join(data_dir,'train.csv'),header=False,index=False)"
   ]
  },
  {
   "cell_type": "code",
   "execution_count": 91,
   "id": "diagnostic-church",
   "metadata": {},
   "outputs": [],
   "source": [
    "# set prefix, a descriptive name for a directory for our train test data\n",
    "prefix = 'cancer-class'\n",
    "# upload all data to S3\n",
    "test_location = session.upload_data(os.path.join(data_dir,'test.csv'),key_prefix=prefix)\n",
    "train_location= session.upload_data(os.path.join(data_dir,'train.csv'),key_prefix=prefix)"
   ]
  },
  {
   "cell_type": "code",
   "execution_count": 92,
   "id": "concerned-wrist",
   "metadata": {},
   "outputs": [
    {
     "data": {
      "text/html": [
       "<div>\n",
       "<style scoped>\n",
       "    .dataframe tbody tr th:only-of-type {\n",
       "        vertical-align: middle;\n",
       "    }\n",
       "\n",
       "    .dataframe tbody tr th {\n",
       "        vertical-align: top;\n",
       "    }\n",
       "\n",
       "    .dataframe thead th {\n",
       "        text-align: right;\n",
       "    }\n",
       "</style>\n",
       "<table border=\"1\" class=\"dataframe\">\n",
       "  <thead>\n",
       "    <tr style=\"text-align: right;\">\n",
       "      <th></th>\n",
       "      <th>c_1</th>\n",
       "      <th>c_2</th>\n",
       "      <th>c_3</th>\n",
       "      <th>c_4</th>\n",
       "      <th>c_5</th>\n",
       "    </tr>\n",
       "  </thead>\n",
       "  <tbody>\n",
       "    <tr>\n",
       "      <th>c_1</th>\n",
       "      <td>1.0</td>\n",
       "      <td>0.0</td>\n",
       "      <td>0.0</td>\n",
       "      <td>0.0</td>\n",
       "      <td>0.0</td>\n",
       "    </tr>\n",
       "    <tr>\n",
       "      <th>c_2</th>\n",
       "      <td>0.0</td>\n",
       "      <td>1.0</td>\n",
       "      <td>0.0</td>\n",
       "      <td>0.0</td>\n",
       "      <td>0.0</td>\n",
       "    </tr>\n",
       "    <tr>\n",
       "      <th>c_3</th>\n",
       "      <td>0.0</td>\n",
       "      <td>0.0</td>\n",
       "      <td>1.0</td>\n",
       "      <td>0.0</td>\n",
       "      <td>0.0</td>\n",
       "    </tr>\n",
       "    <tr>\n",
       "      <th>c_4</th>\n",
       "      <td>0.0</td>\n",
       "      <td>0.0</td>\n",
       "      <td>0.0</td>\n",
       "      <td>1.0</td>\n",
       "      <td>0.0</td>\n",
       "    </tr>\n",
       "    <tr>\n",
       "      <th>c_5</th>\n",
       "      <td>0.0</td>\n",
       "      <td>0.0</td>\n",
       "      <td>0.0</td>\n",
       "      <td>0.0</td>\n",
       "      <td>1.0</td>\n",
       "    </tr>\n",
       "  </tbody>\n",
       "</table>\n",
       "</div>"
      ],
      "text/plain": [
       "     c_1  c_2  c_3  c_4  c_5\n",
       "c_1  1.0  0.0  0.0  0.0  0.0\n",
       "c_2  0.0  1.0  0.0  0.0  0.0\n",
       "c_3  0.0  0.0  1.0  0.0  0.0\n",
       "c_4  0.0  0.0  0.0  1.0  0.0\n",
       "c_5  0.0  0.0  0.0  0.0  1.0"
      ]
     },
     "metadata": {},
     "output_type": "display_data"
    }
   ],
   "source": [
    "# Create correlation matrix for just Features to determine different models to test\n",
    "corr_matrix = df_transformed.corr().abs().round(2)\n",
    "\n",
    "# display shows all of a dataframe\n",
    "display(corr_matrix)"
   ]
  },
  {
   "cell_type": "code",
   "execution_count": null,
   "id": "acceptable-fellow",
   "metadata": {},
   "outputs": [],
   "source": []
  }
 ],
 "metadata": {
  "kernelspec": {
   "display_name": "conda_amazonei_mxnet_p36",
   "language": "python",
   "name": "conda_amazonei_mxnet_p36"
  },
  "language_info": {
   "codemirror_mode": {
    "name": "ipython",
    "version": 3
   },
   "file_extension": ".py",
   "mimetype": "text/x-python",
   "name": "python",
   "nbconvert_exporter": "python",
   "pygments_lexer": "ipython3",
   "version": "3.6.13"
  }
 },
 "nbformat": 4,
 "nbformat_minor": 5
}
